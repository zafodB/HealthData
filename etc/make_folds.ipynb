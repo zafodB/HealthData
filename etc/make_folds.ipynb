{
 "cells": [
  {
   "cell_type": "code",
   "execution_count": 31,
   "metadata": {
    "collapsed": true,
    "pycharm": {
     "is_executing": false
    }
   },
   "outputs": [],
   "source": [
    "import json\n",
    "\n",
    "topic_ids = set()\n",
    "with open('d:/downloads/json/ehealthforum/trac/qrels_ehf_all_balanced.txt', 'r', encoding='utf8') as file:\n",
    "# with open('n:/ehealthforum/trac/noent/queries/queries43.txt', 'r') as file:\n",
    "    for line in file:\n",
    "        query, run, document, relevance = line.split('\\t')\n",
    "        topic_ids.add(query)\n",
    "\n",
    "\n",
    "topic_ids = list(topic_ids)\n",
    "topic_ids2 = topic_ids[:]\n",
    "\n",
    "topic_ids.sort()\n",
    "topic_ids2.sort(reverse=True)"
   ]
  },
  {
   "cell_type": "code",
   "execution_count": 32,
   "outputs": [],
   "source": [
    "\n",
    "\n",
    "output = {}\n",
    "\n",
    "for fold in range(1, 3):\n",
    "    \n",
    "    if fold == 2:\n",
    "        topic_ids = topic_ids2\n",
    "        \n",
    "    fold_name = 's'+str(fold)\n",
    "    \n",
    "    output[fold_name] = {'train_qids': [], 'predict': {'dev': [], 'test': []} }\n",
    "    \n",
    "    for _ in range(0, 91):\n",
    "        output[fold_name]['train_qids'].append(topic_ids.pop())\n",
    "    \n",
    "    for _ in range(0, 1):\n",
    "        output[fold_name]['predict']['dev'].append(topic_ids.pop())\n",
    "        \n",
    "    for _ in range(0, 92):\n",
    "        output[fold_name]['predict']['test'].append(topic_ids.pop())    "
   ],
   "metadata": {
    "collapsed": false,
    "pycharm": {
     "name": "#%%\n",
     "is_executing": false
    }
   }
  },
  {
   "cell_type": "code",
   "execution_count": 33,
   "outputs": [],
   "source": [
    "with open('d:/Downloads/json/ehealthforum/trac/filip0folds_test.json', 'w+') as out_file:\n",
    "    json.dump(output, out_file)"
   ],
   "metadata": {
    "collapsed": false,
    "pycharm": {
     "name": "#%%\n",
     "is_executing": false
    }
   }
  }
 ],
 "metadata": {
  "kernelspec": {
   "display_name": "Python 3",
   "language": "python",
   "name": "python3"
  },
  "language_info": {
   "codemirror_mode": {
    "name": "ipython",
    "version": 2
   },
   "file_extension": ".py",
   "mimetype": "text/x-python",
   "name": "python",
   "nbconvert_exporter": "python",
   "pygments_lexer": "ipython2",
   "version": "2.7.6"
  },
  "pycharm": {
   "stem_cell": {
    "cell_type": "raw",
    "source": [],
    "metadata": {
     "collapsed": false
    }
   }
  }
 },
 "nbformat": 4,
 "nbformat_minor": 0
}
