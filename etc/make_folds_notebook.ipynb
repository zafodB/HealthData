{
 "cells": [
  {
   "cell_type": "code",
   "execution_count": 7,
   "metadata": {
    "collapsed": true,
    "pycharm": {
     "is_executing": false
    }
   },
   "outputs": [],
   "source": [
    "import json\n",
    "\n",
    "topic_ids = set()\n",
    "with open('d:/downloads/json/ehealthforum/trac/qrels_ehf_all_balanced.txt', 'r', encoding='utf8') as file:\n",
    "# with open('n:/ehealthforum/trac/noent/queries/queries43.txt', 'r') as file:\n",
    "    for line in file:\n",
    "        query, run, document, relevance = line.split('\\t')\n",
    "        topic_ids.add(query)\n",
    "\n",
    "\n",
    "topic_ids = list(topic_ids)\n",
    "\n",
    "topic_ids.sort()"
   ]
  },
  {
   "cell_type": "code",
   "execution_count": 20,
   "outputs": [],
   "source": [
    "output = {}\n",
    "NUMBER_FOLDS = 3\n",
    "\n",
    "part_length = len(topic_ids) // NUMBER_FOLDS\n",
    "splits = [topic_ids[0 : part_length], topic_ids[part_length : 2*part_length], topic_ids[2*part_length:]]\n",
    "\n",
    "for fold in range(0, NUMBER_FOLDS):\n",
    "    \n",
    "    fold_name = 's'+str(fold + 1)\n",
    "    \n",
    "    output[fold_name] = {'train_qids': [], 'predict': {'dev': [], 'test': []} }\n",
    "    \n",
    "    \n",
    "    output[fold_name]['train_qids'].extend(splits[fold % NUMBER_FOLDS])\n",
    "    output[fold_name]['predict']['dev'].extend(splits[(fold + 1) % NUMBER_FOLDS])\n",
    "    output[fold_name]['predict']['test'].extend(splits[(fold + 2) % NUMBER_FOLDS]) \n",
    "    "
   ],
   "metadata": {
    "collapsed": false,
    "pycharm": {
     "name": "#%%\n",
     "is_executing": false
    }
   }
  },
  {
   "cell_type": "code",
   "execution_count": 22,
   "outputs": [],
   "source": [
    "with open('d:/Downloads/json/ehealthforum/trac/filip0folds.json', 'w+') as out_file:\n",
    "    json.dump(output, out_file)"
   ],
   "metadata": {
    "collapsed": false,
    "pycharm": {
     "name": "#%%\n",
     "is_executing": false
    }
   }
  }
 ],
 "metadata": {
  "kernelspec": {
   "display_name": "Python 3",
   "language": "python",
   "name": "python3"
  },
  "language_info": {
   "codemirror_mode": {
    "name": "ipython",
    "version": 2
   },
   "file_extension": ".py",
   "mimetype": "text/x-python",
   "name": "python",
   "nbconvert_exporter": "python",
   "pygments_lexer": "ipython2",
   "version": "2.7.6"
  },
  "pycharm": {
   "stem_cell": {
    "cell_type": "raw",
    "source": [],
    "metadata": {
     "collapsed": false
    }
   }
  }
 },
 "nbformat": 4,
 "nbformat_minor": 0
}
