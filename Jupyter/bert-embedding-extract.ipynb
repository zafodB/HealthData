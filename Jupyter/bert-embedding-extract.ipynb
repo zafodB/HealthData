{
 "cells": [
  {
   "cell_type": "code",
   "execution_count": 1,
   "metadata": {
    "collapsed": true,
    "pycharm": {
     "is_executing": false,
     "name": "#%%\n"
    }
   },
   "outputs": [],
   "source": [
    "import json\n",
    "\n",
    "category_file_e = \"D:\\OneDrive\\Documents\\AB Germany\\health_data/ehealthforum_map.json\"\n",
    "category_file_h = \"D:\\OneDrive\\Documents\\AB Germany\\health_data/healthboards_map2.json\"\n",
    "\n",
    "# category_file_e = \"/home/fadamik/Documents/ehealthforum_map.json\"\n",
    "# category_file_h = \"/home/fadamik/Documents/healthboards_map.json\"\n",
    "\n",
    "with open(category_file_e, \"r\", encoding=\"utf8\") as file:\n",
    "    categories_e = json.load(file)\n",
    "\n",
    "with open(category_file_h, \"r\", encoding=\"utf8\") as file:\n",
    "    categories_h = json.load(file)\n",
    "        \n",
    "categories = set()\n",
    "\n",
    "for category in categories_e:\n",
    "    categories.add(categories_e[category])\n",
    "\n",
    "for category in categories_h:\n",
    "    categories.add(categories_h[category])    \n",
    "\n",
    "with open(\"d:/downloads/json/categories_all.json\", \"w+\", encoding=\"utf8\") as file:\n",
    "    for cat in categories:\n",
    "        file.write(cat + \"\\n\")\n",
    "# print(len(categories))\n",
    "# print(json.dumps(list(categories)))\n"
   ]
  },
  {
   "cell_type": "code",
   "execution_count": null,
   "outputs": [],
   "source": [
    "from bert_serving.client import BertClient\n",
    "import numpy as np\n",
    "bc = BertClient()\n",
    "\n",
    "encoded_terms = []\n",
    "\n",
    "for category in categories:\n",
    "    encoded_terms.append((category, bc.encode([category])))\n",
    "    \n",
    "print(len(encoded_terms))\n",
    "\n",
    "output_json = {}\n",
    "\n",
    "while encoded_terms:\n",
    "    term1 = encoded_terms.pop()\n",
    "    output_json[term1[0]] = []\n",
    "    \n",
    "    for term2 in encoded_terms:\n",
    "        distance = np.linalg.norm(term1[1] - term2[1])\n",
    "        output_json[term1[0]][term2[0]] = str(distance)\n",
    "        \n",
    "with open(\"output_distances-ef.json\", \"w+\", encoding=\"utf8\") as file:\n",
    "    json.dump(output_json, file)\n",
    "         \n",
    "\n"
   ],
   "metadata": {
    "collapsed": false,
    "pycharm": {
     "name": "#%%\n"
    }
   }
  }
 ],
 "metadata": {
  "kernelspec": {
   "display_name": "Python 3",
   "language": "python",
   "name": "python3"
  },
  "language_info": {
   "codemirror_mode": {
    "name": "ipython",
    "version": 2
   },
   "file_extension": ".py",
   "mimetype": "text/x-python",
   "name": "python",
   "nbconvert_exporter": "python",
   "pygments_lexer": "ipython2",
   "version": "2.7.6"
  },
  "pycharm": {
   "stem_cell": {
    "cell_type": "raw",
    "source": [],
    "metadata": {
     "collapsed": false
    }
   }
  }
 },
 "nbformat": 4,
 "nbformat_minor": 0
}
