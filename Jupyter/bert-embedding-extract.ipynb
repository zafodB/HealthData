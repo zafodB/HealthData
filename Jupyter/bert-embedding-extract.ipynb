{
 "cells": [
  {
   "cell_type": "code",
   "execution_count": 5,
   "metadata": {
    "collapsed": true,
    "pycharm": {
     "is_executing": false,
     "name": "#%%\n"
    }
   },
   "outputs": [
    {
     "name": "stdout",
     "text": [
      "273\n[\"Bone Cancer\", \"Brain Tumors\", \"Oral Cancer\", \"Celiac Disease\", \"Mononucleosis\", \"Lasik Eye Surgery\", \"Chronic Fatigue Syndrome\", \"Birth Control\", \"Stop Smoking\", \"Healthy Lifestyle\", \"TTC (Trying to Conceive)\", \"Grief and Loss\", \"Cystic Fibrosis\", \"Immune Disorders\", \"Hair Loss, Hair Disorders\", \"Degenerative Diseases\", \"Dyslexia\", \"Hysterectomy\", \"TMJ Disorder -TemporoMandibular Joint\", \"Diet & Nutrition\", \"Rare Disorders\", \"Eating Disorders\", \"Pets and Animals\", \"Tourette Syndrome\", \"Money, Health Insurance\", \"Senior Health\", \"Rectal & Anal Cancer\", \"Headache and Migraines\", \"Pain Management\", \"Burns & Injuries\", \"Economic Recession\", \"Fibromyalgia\", \"Exercise & Fitness\", \"Dizziness / Vertigo\", \"Gout\", \"Bell's Palsy\", \"Gland Disorders\", \"Uterine Cancer\", \"Brain & Nervous System Disorders\", \"Learning Disorders\", \"Parkinson Disease\", \"Neurological Disorders\", \"Addison's Disease\", \"Hypochondria\", \"Mesothelioma\", \"Kidney Cancer\", \"Foot Disorders\", \"Addiction, Recovery\", \"High Cholesterol\", \"Throat Cancer\", \"Bipolar Disorder\", \"Clinical Trials, Research, and Studies\", \"Dental Health\", \"Psoriasis\", \"Adoption\", \"Down Syndrome\", \"Orthopedics\", \"General Health\", \"Fertility\", \"Lymphoma\", \"Postpartum and Postnatal\", \"Testicles\", \"Ear, Nose and Throat Disorders\", \"Codependency\", \"Vascular and Circulatory Disorders\", \"Womens Conditions\", \"Polio\", \"Alternative Medicine\", \"Family & Friends of the Mentally Ill\", \"Amputation\", \"Mens Conditions\", \"Self Injury\", \"Lymphedema\", \"Intestinal Disorders\", \"Bacterial Disorders\", \"Shyness\", \"Epstein Barr Virus (EBV)\", \"Healthcare Professionals\", \"Infectious Diseases\", \"Hemorrhoids\", \"Tuberculosis\", \"Vision and Eye Disorders\", \"Rosacea\", \"Kidney Conditions\", \"Knee & Hip Problems\", \"Diagnostics & Test Results\", \"Multiple Sclerosis\", \"Shingles\", \"Muscular and Nerve Disorders\", \"Single and Struggling\", \"Teen Pregnancy\", \"Disabilities\", \"Environmental Disorders\", \"Baby Names\", \"Incontinence\", \"Vitamins\", \"Aging Issues\", \"Restless Leg Syndrome\", \"Bone cancer\", \"Autoimmune Disorders\", \"Autism\", \"Asthma\", \"Sexually Transmitted Diseases\", \"Beauty & Cosmetics\", \"Liver Disorders, Hepatitis A,B,C\", \"Lyme Disease\", \"High & Low Blood Pressure\", \"Children's Health\", \"Herpes and Genital Warts\", \"Pituitary Disease\", \"Arthritis\", \"Sinus Problems\", \"Neurofibromatosis\", \"Diabetes\", \"Cancer: Leukemia\", \"Menopause\", \"Menstruation\", \"Anemia\", \"Issue Awareness\", \"Mental Health\", \"Hernia\", \"Adrenal Disorders\", \"Transplants\", \"Brain and Head Injuries\", \"Spinal Injuries\", \"Bites or Stings\", \"Vasectomy\", \"Wound Care\", \"Dysphagia\", \"Depression\", \"Urology\", \"Anxiety and Stress\", \"Chemotherapy\", \"Sj\\u00f6gren's Syndrome\", \"Alzheimer Disease\", \"Cord Blood Banking\", \"Raynaud's Syndrome\", \"PTSD\", \"Muscular Dystrophy\", \"Infant Care (up to 18 months old)\", \"Myositis\", \"Cold, Flu and Viral Infections\", \"Prostate\", \"Teen Health\", \"Sarcoidosis\", \"Pancreas Disorders\", \"Hearing Disorders\", \"Scoliosis\", \"Liver Cancer\", \"Back Pain\", \"Brain Cancer\", \"Schizophrenia\", \"Abuse Support\", \"Obesity\", \"Parenting Community\", \"Interstitial Cystitis (IC)\", \"Cloning and Stem Cell Debate\", \"Allergies\", \"Pharmaceuticals\", \"Leukemia\", \"Bipolar Relationships\", \"West Nile Virus\", \"Heart Disease and Heart Attack\", \"Cancer: Colon & Rectal\", \"Esophageal Cancer\", \"Thyroid Disorders\", \"Swine Flu\", \"Speech & Language Disorders\", \"Panic Attacks\", \"Thyroid Cancer\", \"Shoulder / Rotator Cuff Problems\", \"Anger Management\", \"Recovery & Post-Op\", \"Nutrition\", \"Cancers\", \"Testicular Cancer\", \"Stroke\", \"Body Modification\", \"Testimonials\", \"Military Health Issues\", \"Site related\", \"Vaccination & Immunization\", \"Appendix and Appendicitis\", \"Bowel Cancer\", \"Stomach, Ulcers, Gastric Bypass\", \"Autism Spectrum\", \"Digestive and Bowel Disorders\", \"Sexual Enhancement Drugs\", \"Costochondritis\", \"Paralysis\", \"Blood Disorders\", \"Cerebral Palsy\", \"Endometriosis\", \"Birth Control - Men\", \"Medical Marijuana Debate\", \"Miscarriage and Stillbirth\", \"Hypoglycemia\", \"Weight Loss\", \"Yeast Infection\", \"Hospice\", \"Relationships and Marriage\", \"Lupus\", \"Neuromuscular Diseases\", \"Personality Disorder\", \"Breastfeeding and Nursing\", \"Ovulation and Ovaries\", \"Epilepsy\", \"Bladder Cancer\", \"Obsessive Compulsive Disorder (OCD)\", \"Asperger's Syndrome\", \"Gallbladder Disease\", \"Meningitis\", \"HIV and AIDS\", \"Single Parents\", \"Skin Cancer\", \"Breasts\", \"Measles and Mumps\", \"Reflex Sympathetic Dystrophy\", \"Bile Duct Disorders\", \"Family & Friends of Cancer Patients\", \"Stomach Cancer\", \"Pregnancy\", \"Pancreatic Cancer\", \"Osteoporosis\", \"Lungs and Respiratory Disorders\", \"Abortion\", \"Nausea\", \"Twins & Multiples\", \"Bone Disorders\", \"Acne and Skin Disorders\", \"Sexual Health\", \"Rape / Sexual Abuse\", \"Trigeminal Neuralgia\", \"Sudden Infant Death Syndrome (SIDS)\", \"Chest Pain\", \"Candida\", \"Abdominal Pain\", \"Irritable Bowel Syndrome (IBS)\", \"Breast Cancer\", \"Broken Bones\", \"Polycystic Ovary Syndrome (PCOS)\", \"Skin Problems\", \"Inflammatory and Abnormal Cell Disorders\", \"Spleen\", \"Endocrine Disorders\", \"Divorce\", \"Neuropathy\", \"Carpal Tunnel Syndrome\", \"Children - Special Needs\", \"Poisoning and Environmental Health\", \"Acute Respiratory Distress Syndrome (ARDS)\", \"Colon Cancer\", \"GLBT Relationships\", \"Hormone Problems\", \"Phobias\", \"Infertility\", \"Drug Interactions\", \"Death & Dying\", \"Genetic Disorders\", \"Acid Reflux\", \"Caregivers\", \"Crohn Disease\", \"Polls and Surveys\", \"Sleep Disorders\", \"Nail Problems\", \"ALS, Lou Gehrig Disease\", \"Lung Cancer\", \"Prostate Cancer\", \"Human Papillomavirus (HPV)\", \"Urinary and Bladder Disorders\", \"Cosmetic Surgery, Plastic Surgery\", \"ADD and ADHD\", \"Cervical Cancer and Ovarian Cancer\"]\n"
     ],
     "output_type": "stream"
    }
   ],
   "source": [
    "import json\n",
    "\n",
    "# category_file_e = \"D:\\OneDrive\\Documents\\AB Germany\\health_data/ehealthforum_map.json\"\n",
    "# category_file_h = \"D:\\OneDrive\\Documents\\AB Germany\\health_data/healthboards_map2.json\"\n",
    "\n",
    "category_file_e = \"/home/fadamik/Documents/ehealthforum_map.json\"\n",
    "category_file_h = \"/home/fadamik/Documents/healthboards_map.json\"\n",
    "\n",
    "with open(category_file_e, \"r\", encoding=\"utf8\") as file:\n",
    "    categories_e = json.load(file)\n",
    "\n",
    "with open(category_file_h, \"r\", encoding=\"utf8\") as file:\n",
    "    categories_h = json.load(file)\n",
    "        \n",
    "categories = set()\n",
    "\n",
    "for category in categories_e:\n",
    "    categories.add(categories_e[category])\n",
    "\n",
    "for category in categories_h:\n",
    "    categories.add(categories_h[category])    \n",
    "\n",
    "# print(len(categories))\n",
    "# print(json.dumps(list(categories)))\n"
   ]
  },
  {
   "cell_type": "code",
   "execution_count": null,
   "outputs": [],
   "source": [
    "from bert_serving.client import BertClient\n",
    "import numpy as np\n",
    "bc = BertClient()\n",
    "\n",
    "encoded_terms = []\n",
    "\n",
    "for category in categories:\n",
    "    encoded_terms.append((category, bc.encode([category])))\n",
    "    \n",
    "print(len(encoded_terms))\n",
    "\n",
    "output_json = {}\n",
    "\n",
    "while encoded_terms:\n",
    "    term1 = encoded_terms.pop()\n",
    "    output_json[term1[0]] = []\n",
    "    \n",
    "    for term2 in encoded_terms:\n",
    "        distance = np.linalg.norm(term1[1] - term2[1])\n",
    "        output_json[term1[0]][term2[0]] = str(distance)\n",
    "        \n",
    "with open(\"output_distances-ef.json\", \"w+\", encoding=\"utf8\") as file:\n",
    "    json.dump(output_json, file)\n",
    "         \n",
    "\n"
   ],
   "metadata": {
    "collapsed": false,
    "pycharm": {
     "name": "#%%\n"
    }
   }
  }
 ],
 "metadata": {
  "kernelspec": {
   "display_name": "Python 3",
   "language": "python",
   "name": "python3"
  },
  "language_info": {
   "codemirror_mode": {
    "name": "ipython",
    "version": 2
   },
   "file_extension": ".py",
   "mimetype": "text/x-python",
   "name": "python",
   "nbconvert_exporter": "python",
   "pygments_lexer": "ipython2",
   "version": "2.7.6"
  },
  "pycharm": {
   "stem_cell": {
    "cell_type": "raw",
    "source": [],
    "metadata": {
     "collapsed": false
    }
   }
  }
 },
 "nbformat": 4,
 "nbformat_minor": 0
}
