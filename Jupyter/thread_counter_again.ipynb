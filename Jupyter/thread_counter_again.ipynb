{
 "cells": [
  {
   "cell_type": "code",
   "execution_count": 2,
   "outputs": [],
   "source": [
    "import os, json,traceback"
   ],
   "metadata": {
    "collapsed": false,
    "pycharm": {
     "name": "#%%\n",
     "is_executing": false
    }
   }
  },
  {
   "cell_type": "code",
   "execution_count": null,
   "outputs": [],
   "source": [
    "thread_ids = set()\n",
    "duplicate_thread_ids = []\n",
    "reply_count = 0\n",
    "reply_count_dupl= 0\n",
    "processed_counter = 0\n",
    "\n",
    "for root, dir, files in os.walk(\"/scratch/GW/pool0/fadamik/ehealthforum/json-annotated2\"):\n",
    "# for root, dir, files in os.walk(\"d:/downloads/json/ehealthforum/trac/data\"):\n",
    "    for filename in files:\n",
    "        try:\n",
    "            with open(os.path.join(root, filename), \"r\", encoding=\"utf8\") as file:\n",
    "                contents = json.load(file)\n",
    "                \n",
    "                thread_id = contents['threadId']\n",
    "                \n",
    "                if thread_id in thread_ids:\n",
    "                    duplicate_thread_ids.append(thread_id)\n",
    "                else:\n",
    "                    thread_ids.add(thread_id)\n",
    "                \n",
    "                replies = set()\n",
    "                \n",
    "                for reply in contents['replies']:\n",
    "                    reply_text = reply[\"postText\"]\n",
    "                    reply_count_dupl += 1\n",
    "                    \n",
    "                    if reply_text in replies:\n",
    "                        print(\"File: \" + filename + \"\\tFound duplicated reply: \" + reply_text)\n",
    "                    else:\n",
    "                        replies.add(reply_text)\n",
    "                \n",
    "                reply_count += len(replies)\n",
    "            \n",
    "            processed_counter += 1\n",
    "            \n",
    "            if processed_counter % 1000 == 0:   \n",
    "                print(\"Processed files: \" + str(processed_counter))\n",
    "                \n",
    "        except Exception as excep:\n",
    "            traceback.print_exc(excep)\n"
   ],
   "metadata": {
    "collapsed": false,
    "pycharm": {
     "name": "#%%\n"
    }
   }
  }
 ],
 "metadata": {
  "kernelspec": {
   "display_name": "Python 3",
   "language": "python",
   "name": "python3"
  },
  "language_info": {
   "codemirror_mode": {
    "name": "ipython",
    "version": 2
   },
   "file_extension": ".py",
   "mimetype": "text/x-python",
   "name": "python",
   "nbconvert_exporter": "python",
   "pygments_lexer": "ipython2",
   "version": "2.7.6"
  },
  "pycharm": {
   "stem_cell": {
    "cell_type": "raw",
    "source": [],
    "metadata": {
     "collapsed": false
    }
   }
  }
 },
 "nbformat": 4,
 "nbformat_minor": 0
}
