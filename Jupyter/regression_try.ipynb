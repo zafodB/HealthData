{
 "cells": [
  {
   "cell_type": "code",
   "execution_count": 2,
   "metadata": {
    "collapsed": true,
    "pycharm": {
     "is_executing": false
    }
   },
   "outputs": [],
   "source": [
    "from sklearn.linear_model import LinearRegression \n",
    "import numpy as np\n",
    "\n",
    "regression_model = LinearRegression()\n",
    "\n"
   ]
  },
  {
   "cell_type": "markdown",
   "source": [
    "Features are:\n",
    "* Is doctor reply: `0` or `1`\n",
    "* Number of votes: `int > 0`\n",
    "* Number of informative entities `int > 0 `\n",
    "* Number of informative entities shared with query `int > 0 `\n",
    "* Length more than 150 `0` or `1`\n",
    "* Is same category `0` or `1`\n",
    "* Is same thread `0` or `1`\n"
   ],
   "metadata": {
    "collapsed": false
   }
  },
  {
   "cell_type": "code",
   "execution_count": 11,
   "outputs": [],
   "source": [
    "sample_data1 = [1, 0, 0, 0, 1, 1, 1]\n",
    "sample_data2 = [0, 0, 3, 3, 1, 1, 0]\n",
    "sample_data3 = [0, 15, 0, 0, 1, 1, 1]\n",
    "sample_data4 = [1, 0, 0, 0, 0, 1, 1]\n",
    "sample_data5 = [0, 0, 0, 0, 0, 1, 0]\n",
    "\n",
    "sample_target1 = 265\n",
    "sample_target2 = 290\n",
    "sample_target3 = 255\n",
    "sample_target4 = 250\n",
    "sample_target5 = 200\n",
    "\n",
    "x = np.array([sample_data1, sample_data2, sample_data3, sample_data4, sample_data5])\n",
    "y = np.array([sample_target1, sample_target2, sample_target3, sample_target4, sample_target5])"
   ],
   "metadata": {
    "collapsed": false,
    "pycharm": {
     "name": "#%%\n",
     "is_executing": false
    }
   }
  },
  {
   "cell_type": "code",
   "execution_count": 12,
   "outputs": [
    {
     "data": {
      "text/plain": "LinearRegression(copy_X=True, fit_intercept=True, n_jobs=None, normalize=False)"
     },
     "metadata": {},
     "output_type": "execute_result",
     "execution_count": 12
    }
   ],
   "source": [
    "regression_model.fit(x, y)"
   ],
   "metadata": {
    "collapsed": false,
    "pycharm": {
     "name": "#%%\n",
     "is_executing": false
    }
   }
  },
  {
   "cell_type": "code",
   "execution_count": 15,
   "outputs": [
    {
     "name": "stdout",
     "text": [
      "[24.96674058  0.99778271 12.5        12.5        15.          0.\n 25.03325942]\n"
     ],
     "output_type": "stream"
    },
    {
     "data": {
      "text/plain": "array([265.])"
     },
     "metadata": {},
     "output_type": "execute_result",
     "execution_count": 15
    }
   ],
   "source": [
    "print(regression_model.coef_)\n",
    "# print(regression_model.get_params())\n",
    "\n",
    "test_sample = np.array([[0, 0, 2, 2, 1, 1, 0]])\n",
    "regression_model.predict(test_sample)\n"
   ],
   "metadata": {
    "collapsed": false,
    "pycharm": {
     "name": "#%%\n",
     "is_executing": false
    }
   }
  }
 ],
 "metadata": {
  "kernelspec": {
   "display_name": "Python 3",
   "language": "python",
   "name": "python3"
  },
  "language_info": {
   "codemirror_mode": {
    "name": "ipython",
    "version": 2
   },
   "file_extension": ".py",
   "mimetype": "text/x-python",
   "name": "python",
   "nbconvert_exporter": "python",
   "pygments_lexer": "ipython2",
   "version": "2.7.6"
  },
  "pycharm": {
   "stem_cell": {
    "cell_type": "raw",
    "source": [],
    "metadata": {
     "collapsed": false
    }
   }
  }
 },
 "nbformat": 4,
 "nbformat_minor": 0
}
