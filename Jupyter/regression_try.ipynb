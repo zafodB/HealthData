{
 "cells": [
  {
   "cell_type": "code",
   "execution_count": 2,
   "metadata": {
    "collapsed": true,
    "pycharm": {
     "is_executing": false
    }
   },
   "outputs": [],
   "source": [
    "from sklearn.linear_model import LinearRegression \n",
    "import numpy as np\n",
    "import json\n",
    "\n",
    "regression_model = LinearRegression()\n",
    "\n"
   ]
  },
  {
   "cell_type": "markdown",
   "source": [
    "Features are:\n",
    "* Is doctor reply: `0` or `1`\n",
    "* Number of votes: `int > 0`\n",
    "* Number of informative entities `int > 0 `\n",
    "* Number of informative entities shared with query `int > 0 `\n",
    "* Length more than 150 `0` or `1`\n",
    "* Is same category `0` or `1`\n",
    "* Is same thread `0` or `1`\n"
   ],
   "metadata": {
    "collapsed": false
   }
  },
  {
   "cell_type": "code",
   "execution_count": 3,
   "outputs": [
    {
     "name": "stdout",
     "text": [
      "1056352\n",
      "1056352\n"
     ],
     "output_type": "stream"
    }
   ],
   "source": [
    "with open(\"d:/downloads/json/healthboards/trac/training_data.json\", \"r\", encoding=\"utf8\") as file:\n",
    "    training_data = json.load(file)\n",
    "\n",
    "print(len(training_data))\n",
    "\n",
    "with open(\"d:/downloads/json/healthboards/trac/targets.json\", \"r\", encoding=\"utf8\") as file:\n",
    "    targets = json.load(file)\n",
    "\n",
    "print(len(targets))\n",
    "\n",
    "x = np.array(training_data)\n",
    "y = np.array(targets)"
   ],
   "metadata": {
    "collapsed": false,
    "pycharm": {
     "name": "#%%\n",
     "is_executing": false
    }
   }
  },
  {
   "cell_type": "code",
   "execution_count": 4,
   "outputs": [
    {
     "data": {
      "text/plain": "LinearRegression(copy_X=True, fit_intercept=True, n_jobs=None, normalize=False)"
     },
     "metadata": {},
     "output_type": "execute_result",
     "execution_count": 4
    }
   ],
   "source": [
    "regression_model.fit(x, y)"
   ],
   "metadata": {
    "collapsed": false,
    "pycharm": {
     "name": "#%%\n",
     "is_executing": false
    }
   }
  },
  {
   "cell_type": "code",
   "execution_count": 5,
   "outputs": [
    {
     "name": "stdout",
     "text": [
      "0.000\n0.000\n2.112\n-1.909\n-1.127\n15.491\n0.772\n5.999\n52.523\n"
     ],
     "output_type": "stream"
    }
   ],
   "source": [
    "weights = regression_model.coef_.tolist()[0]\n",
    "\n",
    "for i in weights:\n",
    "    print(\"%5.3f\" % i)\n",
    "# print(regression_model.get_params())\n",
    "\n",
    "# test_sample = np.array([[0, 0, 2, 2, 1, 1, 0]])\n",
    "# regression_model.predict(test_sample)"
   ],
   "metadata": {
    "collapsed": false,
    "pycharm": {
     "name": "#%%\n",
     "is_executing": false
    }
   }
  },
  {
   "cell_type": "markdown",
   "source": [
    "\n",
    "\n",
    "\n",
    "| -| Doctor reply | votes (helpful) | votes (support) | votes (thank you) | Medical entities | Same entities | Length factor | Same category | Same thread |\n",
    "|-|--------------|-----------------|-----------------|-------------------|------------------|---------------|---------------|---------------|-------------|\n",
    "eHealthForum| -13.9  | 0.819 | 0| 0  | 0.187 | 2.77 | 0.620  | 4.64  | 10.7  |\n",
    "HealthBoards | 0.0 | 0.0 | 2.112 | -1.9 | -1.12 | 15.5 | 0.77 | 5.99 | 52.52 |\n",
    "\n",
    "Raw (ehealthforum):\n",
    "-13.965\n",
    "0.819\n",
    "0.000\n",
    "0.000\n",
    "0.187\n",
    "2.771\n",
    "0.621\n",
    "4.644\n",
    "10.759\n",
    "\n",
    "Raw (healthboards): \n",
    "0.000\n",
    "0.000\n",
    "2.112\n",
    "-1.909\n",
    "-1.127\n",
    "15.491\n",
    "0.772\n",
    "5.999\n",
    "52.523"
   ],
   "metadata": {
    "collapsed": false
   }
  }
 ],
 "metadata": {
  "kernelspec": {
   "display_name": "Python 3",
   "language": "python",
   "name": "python3"
  },
  "language_info": {
   "codemirror_mode": {
    "name": "ipython",
    "version": 2
   },
   "file_extension": ".py",
   "mimetype": "text/x-python",
   "name": "python",
   "nbconvert_exporter": "python",
   "pygments_lexer": "ipython2",
   "version": "2.7.6"
  },
  "pycharm": {
   "stem_cell": {
    "cell_type": "raw",
    "source": [],
    "metadata": {
     "collapsed": false
    }
   }
  }
 },
 "nbformat": 4,
 "nbformat_minor": 0
}
