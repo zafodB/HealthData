{
 "cells": [
  {
   "cell_type": "code",
   "execution_count": 16,
   "metadata": {
    "collapsed": true,
    "pycharm": {
     "is_executing": false
    }
   },
   "outputs": [
    {
     "name": "stdout",
     "text": [
      "         docid  score\n0    EF66210r8     15\n1  EF125316r18     25\n2   EF85562r15    200\n3   EF338424r1     45\n4    EF99296r7     10\n"
     ],
     "output_type": "stream"
    }
   ],
   "source": [
    "import os\n",
    "import pandas as pd\n",
    "\n",
    "starting_directory = \"d:/downloads/json/ehealthforum/trac/relevance\"\n",
    "file = \"40735.txt\"\n",
    "\n",
    "df = pd.read_csv(os.path.join(starting_directory, file), sep='\\t', header=None, names=['docid', 'score'])\n",
    "\n",
    "print(df.head())"
   ]
  },
  {
   "cell_type": "code",
   "execution_count": 18,
   "outputs": [
    {
     "name": "stdout",
     "text": [
      "             docid  score\n265889  EF347808r1    295\n618614  EF320079r1    295\n52646   EF318375r1    295\n22785   EF406500r1    295\n868093  EF295600r1    295\n"
     ],
     "output_type": "stream"
    }
   ],
   "source": [
    "df = df.sort_values(by='score', ascending=False)\n",
    "print(df.head())\n"
   ],
   "metadata": {
    "collapsed": false,
    "pycharm": {
     "name": "#%%\n",
     "is_executing": false
    }
   }
  }
 ],
 "metadata": {
  "kernelspec": {
   "display_name": "Python 3",
   "language": "python",
   "name": "python3"
  },
  "language_info": {
   "codemirror_mode": {
    "name": "ipython",
    "version": 2
   },
   "file_extension": ".py",
   "mimetype": "text/x-python",
   "name": "python",
   "nbconvert_exporter": "python",
   "pygments_lexer": "ipython2",
   "version": "2.7.6"
  },
  "pycharm": {
   "stem_cell": {
    "cell_type": "raw",
    "source": [],
    "metadata": {
     "collapsed": false
    }
   }
  }
 },
 "nbformat": 4,
 "nbformat_minor": 0
}
