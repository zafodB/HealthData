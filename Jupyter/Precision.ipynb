{
 "cells": [
  {
   "cell_type": "code",
   "execution_count": 1,
   "metadata": {
    "pycharm": {
     "is_executing": false
    }
   },
   "outputs": [],
   "source": [
    "import math\n",
    "import pandas as pd\n",
    "import numpy as np"
   ]
  },
  {
   "cell_type": "code",
   "execution_count": 11,
   "metadata": {
    "pycharm": {
     "is_executing": false
    }
   },
   "outputs": [],
   "source": [
    "def compute_precision_at_k(l, k):\n",
    "    l = l[:k]\n",
    "    return sum(l)/k\n",
    "\n",
    "def compute_map_at_k(l, k):\n",
    "    ap = []\n",
    "    for s in range(1, k+1):\n",
    "        ap.append(compute_precision_at_k(l, s))\n",
    "    return sum(ap)/len(ap)\n",
    "def compute_ndcg(l, k):\n",
    "    l = l[:k]\n",
    "    dcg = sum(([(math.pow(2, l[i]) - 1) / math.log(i + 2, 2) for i in range(len(l))]))\n",
    "    sorted_l = sorted(l, reverse = True)\n",
    "    idcg = sum(([(math.pow(2, sorted_l[i]) - 1) / math.log(i + 2, 2) for i in range(len(sorted_l))]))\n",
    "    if (idcg > 0):\n",
    "        return dcg/idcg\n",
    "    else:\n",
    "        return float(0)\n",
    "def compute_mrr(l, k):\n",
    "    return sum([l[i]*float(1)/float(i + 1) for i in range(len(l))])/k"
   ]
  },
  {
   "cell_type": "code",
   "execution_count": 3,
   "metadata": {
    "pycharm": {
     "is_executing": false
    }
   },
   "outputs": [],
   "source": [
    "df = pd.read_csv(\"d:/downloads/json/ehealthforum/trac/validation_df.txt\", sep = \"\\t\")"
   ]
  },
  {
   "cell_type": "code",
   "execution_count": 4,
   "metadata": {
    "pycharm": {
     "is_executing": false
    }
   },
   "outputs": [
    {
     "data": {
      "text/plain": "Index(['Unnamed: 0', 'query_category', 'query_thread', 'query_text',\n       'query_annotations', 'typ_dsyn', 'typ_patf', 'typ_sosy', 'typ_dora',\n       'typ_fndg', 'typ_menp', 'typ_chem', 'typ_orch', 'typ_horm', 'typ_phsu',\n       'typ_medd', 'typ_bhvr', 'typ_diap', 'typ_bacs', 'typ_enzy', 'typ_inpo',\n       'typ_elii', 'document_category', 'document_thread', 'document_text',\n       'document_is_doctor_reply', 'document_number_votes_h',\n       'document_number_votes_s', 'document_number_votes_t',\n       'document_user_status', 'document_annotations', 'd_typ_dsyn',\n       'd_typ_patf', 'd_typ_sosy', 'd_typ_dora', 'd_typ_fndg', 'd_typ_menp',\n       'd_typ_chem', 'd_typ_orch', 'd_typ_horm', 'd_typ_phsu', 'd_typ_medd',\n       'd_typ_bhvr', 'd_typ_diap', 'd_typ_bacs', 'd_typ_enzy', 'd_typ_inpo',\n       'd_typ_elii', 'relationships_list', 'bm25_relevant', 'bm25_score',\n       'predicted_prob'],\n      dtype='object')"
     },
     "metadata": {},
     "output_type": "execute_result",
     "execution_count": 4
    }
   ],
   "source": [
    "df.columns"
   ]
  },
  {
   "cell_type": "code",
   "execution_count": 6,
   "metadata": {
    "pycharm": {
     "is_executing": false
    }
   },
   "outputs": [],
   "source": [
    "col = [\"query_thread\", 'document_text', 'bm25_score', 'predicted_prob']"
   ]
  },
  {
   "cell_type": "code",
   "execution_count": 7,
   "metadata": {
    "pycharm": {
     "is_executing": false
    }
   },
   "outputs": [
    {
     "name": "stderr",
     "text": [
      "d:\\documents\\python\\healthdata\\lib\\site-packages\\ipykernel_launcher.py:2: SettingWithCopyWarning: \nA value is trying to be set on a copy of a slice from a DataFrame.\nTry using .loc[row_indexer,col_indexer] = value instead\n\nSee the caveats in the documentation: http://pandas.pydata.org/pandas-docs/stable/user_guide/indexing.html#returning-a-view-versus-a-copy\n  \nd:\\documents\\python\\healthdata\\lib\\site-packages\\ipykernel_launcher.py:3: SettingWithCopyWarning: \nA value is trying to be set on a copy of a slice from a DataFrame.\nTry using .loc[row_indexer,col_indexer] = value instead\n\nSee the caveats in the documentation: http://pandas.pydata.org/pandas-docs/stable/user_guide/indexing.html#returning-a-view-versus-a-copy\n  This is separate from the ipykernel package so we can avoid doing imports until\nd:\\documents\\python\\healthdata\\lib\\site-packages\\ipykernel_launcher.py:4: SettingWithCopyWarning: \nA value is trying to be set on a copy of a slice from a DataFrame.\nTry using .loc[row_indexer,col_indexer] = value instead\n\nSee the caveats in the documentation: http://pandas.pydata.org/pandas-docs/stable/user_guide/indexing.html#returning-a-view-versus-a-copy\n  after removing the cwd from sys.path.\nd:\\documents\\python\\healthdata\\lib\\site-packages\\ipykernel_launcher.py:5: SettingWithCopyWarning: \nA value is trying to be set on a copy of a slice from a DataFrame.\nTry using .loc[row_indexer,col_indexer] = value instead\n\nSee the caveats in the documentation: http://pandas.pydata.org/pandas-docs/stable/user_guide/indexing.html#returning-a-view-versus-a-copy\n  \"\"\"\nd:\\documents\\python\\healthdata\\lib\\site-packages\\ipykernel_launcher.py:6: SettingWithCopyWarning: \nA value is trying to be set on a copy of a slice from a DataFrame.\nTry using .loc[row_indexer,col_indexer] = value instead\n\nSee the caveats in the documentation: http://pandas.pydata.org/pandas-docs/stable/user_guide/indexing.html#returning-a-view-versus-a-copy\n  \nd:\\documents\\python\\healthdata\\lib\\site-packages\\ipykernel_launcher.py:7: SettingWithCopyWarning: \nA value is trying to be set on a copy of a slice from a DataFrame.\nTry using .loc[row_indexer,col_indexer] = value instead\n\nSee the caveats in the documentation: http://pandas.pydata.org/pandas-docs/stable/user_guide/indexing.html#returning-a-view-versus-a-copy\n  import sys\n"
     ],
     "output_type": "stream"
    }
   ],
   "source": [
    "new_df = df[col]\n",
    "new_df[\"thresh_0.0\"] = new_df['predicted_prob']>0.0\n",
    "new_df[\"thresh_0.25\"] = new_df['predicted_prob']>0.25\n",
    "new_df[\"thresh_0.5\"] = new_df['predicted_prob']>0.5\n",
    "new_df[\"thresh_0.75\"] = new_df['predicted_prob']>0.75\n",
    "new_df[\"thresh_0.9\"] = new_df['predicted_prob']>0.9\n",
    "new_df[\"thresh_1.0\"] = new_df['predicted_prob']>1.0"
   ]
  },
  {
   "cell_type": "code",
   "execution_count": 8,
   "metadata": {
    "pycharm": {
     "is_executing": false
    }
   },
   "outputs": [],
   "source": [
    "prec_df = pd.DataFrame(columns=['query_thread','thresh_0.0', 'thresh_0.25', 'thresh_0.5', 'thresh_0.75', 'thresh_0.9', 'thresh_1.0'])"
   ]
  },
  {
   "cell_type": "code",
   "execution_count": 14,
   "metadata": {
    "pycharm": {
     "is_executing": false
    }
   },
   "outputs": [],
   "source": [
    "cnt = 0\n",
    "labels = ['thresh_0.0', 'thresh_0.25', 'thresh_0.5', 'thresh_0.75', 'thresh_0.9', 'thresh_1.0']\n",
    "for query, group in new_df.groupby([\"query_thread\"]):\n",
    "    sorted_df = group.sort_values(by=['bm25_score'], ascending=False)\n",
    "    res = []\n",
    "    for lb in labels:\n",
    "        top_k_res = sorted_df[lb].head(n = 10).tolist()\n",
    "        res.append(compute_precision_at_k(top_k_res, 10))\n",
    "    prec_df.loc[cnt] = [query]+res\n",
    "    cnt += 1"
   ]
  },
  {
   "cell_type": "code",
   "execution_count": 54,
   "metadata": {},
   "outputs": [
    {
     "data": {
      "text/plain": [
       "query_thread    22127.7520\n",
       "thresh_0.0          1.0000\n",
       "thresh_0.25         0.7794\n",
       "thresh_0.5          0.7794\n",
       "thresh_0.75         0.7794\n",
       "thresh_0.9          0.2532\n",
       "thresh_1.0          0.0000\n",
       "dtype: float64"
      ]
     },
     "execution_count": 54,
     "metadata": {},
     "output_type": "execute_result"
    }
   ],
   "source": [
    "prec_df.mean()"
   ]
  },
  {
   "cell_type": "code",
   "execution_count": null,
   "metadata": {},
   "outputs": [],
   "source": []
  }
 ],
 "metadata": {
  "kernelspec": {
   "display_name": "Python 3",
   "language": "python",
   "name": "python3"
  },
  "language_info": {
   "codemirror_mode": {
    "name": "ipython",
    "version": 3
   },
   "file_extension": ".py",
   "mimetype": "text/x-python",
   "name": "python",
   "nbconvert_exporter": "python",
   "pygments_lexer": "ipython3",
   "version": "3.7.3"
  },
  "pycharm": {
   "stem_cell": {
    "cell_type": "raw",
    "source": [],
    "metadata": {
     "collapsed": false
    }
   }
  }
 },
 "nbformat": 4,
 "nbformat_minor": 2
}
