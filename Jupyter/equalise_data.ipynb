{
 "cells": [
  {
   "cell_type": "code",
   "execution_count": 2,
   "metadata": {
    "collapsed": true,
    "pycharm": {
     "is_executing": false
    }
   },
   "outputs": [],
   "source": [
    "import pandas as pd"
   ]
  },
  {
   "cell_type": "code",
   "execution_count": 7,
   "outputs": [
    {
     "name": "stdout",
     "text": [
      "(1028886, 4)\n",
      "(117556, 4)\n"
     ],
     "output_type": "stream"
    }
   ],
   "source": [
    "df_rel = pd.read_csv(\"D:/Downloads/json/ehealthforum/trac/qrels_ehf_0.txt\", sep='\\t', header=None, encoding=\"ISO-8859–1\")\n",
    "df_non = pd.read_csv(\"D:/Downloads/json/ehealthforum/trac/non-qrels_ehf_0.txt\", sep='\\t', header=None, encoding=\"ISO-8859–1\")\n",
    "\n",
    "print(df_rel.shape)\n",
    "print(df_non.shape)"
   ],
   "metadata": {
    "collapsed": false,
    "pycharm": {
     "name": "#%%\n",
     "is_executing": false
    }
   }
  },
  {
   "cell_type": "code",
   "execution_count": 9,
   "outputs": [],
   "source": [
    "df_rel = df_rel.iloc[:117000]\n",
    "\n",
    "df_result = df_rel.append(df_non)"
   ],
   "metadata": {
    "collapsed": false,
    "pycharm": {
     "name": "#%%\n",
     "is_executing": false
    }
   }
  },
  {
   "cell_type": "code",
   "execution_count": 11,
   "outputs": [],
   "source": [
    "df_result.to_csv(\"D:/Downloads/json/ehealthforum/trac/qrels-ehf-all.txt\", header=None, sep='\\t')"
   ],
   "metadata": {
    "collapsed": false,
    "pycharm": {
     "name": "#%%\n",
     "is_executing": false
    }
   }
  }
 ],
 "metadata": {
  "kernelspec": {
   "display_name": "Python 3",
   "language": "python",
   "name": "python3"
  },
  "language_info": {
   "codemirror_mode": {
    "name": "ipython",
    "version": 2
   },
   "file_extension": ".py",
   "mimetype": "text/x-python",
   "name": "python",
   "nbconvert_exporter": "python",
   "pygments_lexer": "ipython2",
   "version": "2.7.6"
  },
  "pycharm": {
   "stem_cell": {
    "cell_type": "raw",
    "source": [],
    "metadata": {
     "collapsed": false
    }
   }
  }
 },
 "nbformat": 4,
 "nbformat_minor": 0
}
