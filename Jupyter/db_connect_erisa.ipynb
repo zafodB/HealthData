{
 "cells": [
  {
   "cell_type": "code",
   "execution_count": 26,
   "metadata": {
    "collapsed": true,
    "pycharm": {
     "is_executing": false
    }
   },
   "outputs": [
    {
     "name": "stdout",
     "text": [
      "{'took': 32, 'timed_out': False, '_shards': {'total': 5, 'successful': 5, 'failed': 0}, 'hits': {'total': 1, 'max_score': 1.0, 'hits': [{'_index': 'health-kb', '_type': 'entity', '_id': '19421', '_score': 1.0, '_source': {'types': ['causes_of_C0029443', 'causes_of_C0009450', 'dsyn', 'causes_of_C0012569', 'causes_of_C0238454', 'phpr', 'npop', 'disease_affecting_C0030471', 'causes_of_C0000833', 'complication_of_C0021400', 'patf', 'evnt', 'causes_of_C0262174', 'causes_of_C1260880', 'causes_of_C0003126', 'C0037199', 'risk_factors_for_C0031350', 'causes_of_C0009443', 'risk_factors_for_C0004096', 'symptoms_ofC0042769', 'complication_of_C3539909', 'risk_factors_for_C0149507', 'causes_of_C0234242', 'symptoms_ofC0017168', 'biof', 'causes_of_C0700148', 'symptoms_ofC0699744', 'causes_of_C0018681', 'causes_of_C0027424', 'complication_of_C0009443', 'risk_factors_for_C0035455'], 'human_readable': 'Sinusitis'}}]}}\n['causes_of_C0029443', 'causes_of_C0009450', 'dsyn', 'causes_of_C0012569', 'causes_of_C0238454', 'phpr', 'npop', 'disease_affecting_C0030471', 'causes_of_C0000833', 'complication_of_C0021400', 'patf', 'evnt', 'causes_of_C0262174', 'causes_of_C1260880', 'causes_of_C0003126', 'C0037199', 'risk_factors_for_C0031350', 'causes_of_C0009443', 'risk_factors_for_C0004096', 'symptoms_ofC0042769', 'complication_of_C3539909', 'risk_factors_for_C0149507', 'causes_of_C0234242', 'symptoms_ofC0017168', 'biof', 'causes_of_C0700148', 'symptoms_ofC0699744', 'causes_of_C0018681', 'causes_of_C0027424', 'complication_of_C0009443', 'risk_factors_for_C0035455']\n"
     ],
     "output_type": "stream"
    }
   ],
   "source": [
    "from os import listdir\n",
    "import random\n",
    "import pandas as pd\n",
    "import math\n",
    "import json\n",
    "import operator\n",
    "import logging\n",
    "from elasticsearch import Elasticsearch\n",
    "import pandas as pd\n",
    "import numpy as np\n",
    "import json\n",
    "# %from nltk import wordnet\n",
    "from os import listdir\n",
    "from os import mkdir\n",
    "import random\n",
    "import math\n",
    "import json\n",
    "import operator\n",
    "import sys\n",
    "import string\n",
    "import time\n",
    "def search(es_object, index_name, search):\n",
    "    res = es_object.search(index=index_name, body=search, request_timeout = 60)\n",
    "    return res\n",
    "\n",
    "def connect_elasticsearch():\n",
    "    _es = None\n",
    "#     _es = Elasticsearch([{\"host\":\"d5hadoop29.mpi-inf.mpg.de\", \"port\": 9200}])\n",
    "    _es = Elasticsearch([{\"host\":\"d5hadoop22.mpi-inf.mpg.de\", \"client.transport.sniff\" : True, \"port\": 9200}])\n",
    "    return _es\n",
    "informative_entity_types = set([\"dsyn\", \"patf\", \"sosy\", \"dora\", \"fndg\", \"menp\", \"chem\", \"orch\", \"horm\", \"phsu\", \"medd\", \"bhvr\", \"diap\", 'bacs','chem', 'enzy', \"inpo\", \"elii\"])\n",
    "uninformative_entity_types = set([\"phpr\", \"npop\", 'bsoj', 'idcn',\"sbst\", \"food\", \"evnt\", \"geoa\", \"idcn\"])\n",
    "\n",
    "def entity_info(es_object, index_name, entity):\n",
    "    res = es_object.search(index=index_name, size=1, search_type=\"dfs_query_then_fetch\", _source_includes=[\"human_readable\", \"types\"], body={\"filter\": { \"bool\" : {  \"must\" : [{ \"term\" : {\"kb_id\" : entity}}, { \"term\" : {\"_type\" : \"entity\"}} ]}}})\n",
    "    print(res)\n",
    "    return res[\"hits\"][\"hits\"][0][\"_source\"]\n",
    "\n",
    "\n",
    "def is_informative_entity(es, entity = \"\"):\n",
    "    ei = entity_info(es, \"health-kb\", entity)\n",
    "    types = []\n",
    "    if(\"types\" in ei.keys()):\n",
    "        types = [str(x) for x in ei[\"types\"]]\n",
    "    return is_informative_types(types)\n",
    "\n",
    "# def is_informative_types(types = []):\n",
    "#     return len(set(types).intersection(informative_entity_types)) > 0\n",
    "def is_informative_types(types = []):\n",
    "    return len(set(types).intersection(informative_entity_types)) > 0 or len([x for x in types if x.startswith(\"disease_affecting\") or x.startswith(\"symptoms\")]) > 0\n",
    "def is_informative_type(t):\n",
    "    return len(t) >4 and not t.startswith(\"interactions\")\n",
    "def count_co_occurrences(es, e1, e2):\n",
    "    res = es.count(index=\"health-threads\", body={\"query\": {\"bool\": {\"must\": [ { \"term\" : { \"aida.allEntities\" : e1 } },{ \"term\" : { \"aida.allEntities\" : e2}}, {\"regexp\": {\"FeedUrl\":\".*(healthboards|ehealthforum|patient.co).*\"}}]}}})\n",
    "    return res[u'count']\n",
    "\n",
    "def count_occurrences(es, entity):\n",
    "    res = es.count(index=\"health-threads\", body={\"query\": {\"bool\": {\"must\":[{ \"term\" : { \"aida.allEntities\" : entity }}, {\"regexp\": {\"FeedUrl\":\".*(healthboards|ehealthforum|patient.co).*\"}}]}}})\n",
    "    return res[u'count']\n",
    "\n",
    "# def count_all(es, entity):\n",
    "#     res = es.count(index=\"health-docs\", body={\"query\" : {\"constant_score\" : { \"filter\" : { \"exists\" : { \"field\" :\"allEntities\"}}}}})\n",
    "#     return res[u'count']\n",
    "\n",
    "def pmi(es, e1, e2, e1_occ, e2_occ, variant=2):\n",
    "    cocc = float(count_co_occurrences(es, e1, e2))\n",
    "    all_occ = float(1048428)\n",
    "    if cocc == 0:\n",
    "        pmi_uv =  -100\n",
    "    else:\n",
    "        pmi = math.log(cocc) - math.log(e1_occ) - (math.log(e2_occ) - math.log(all_occ))\n",
    "        if(variant == 2):\n",
    "            pmi_uv =  round(pmi + (math.log(cocc) - math.log(all_occ)),3)\n",
    "    return cocc, pmi_uv\n",
    "\n",
    "def get_types(es, entity):\n",
    "    ei = entity_info(es, \"health-kb\", entity)\n",
    "    types = []\n",
    "    if(\"types\" in ei.keys()):\n",
    "        types = [str(x) for x in ei[\"types\"]]\n",
    "    return types\n",
    "def compute_tf(es, entity, subforum):\n",
    "    query = {\"size\":100000,\"_source\": [\"aida.allMentionEntities\"], \"query\": {\"bool\": {\"must\":[{\"match\": {\"aida.allMentionEntities\": entity}},{ \"match_phrase\": {\"Description\": subforum}},{ \"match_phrase\": {\"FeedUrl\": \"http://ehealthforum.com/\"}}]}}}\n",
    "    res = search(es,\"health-docs-v2\", query)\n",
    "    tf = 0\n",
    "    for hit in res[\"hits\"][\"hits\"]:\n",
    "        hit_id = hit[\"_id\"]\n",
    "        tf += hit[\"_source\"][\"aida\"][\"allMentionEntities\"].split(\" \").count(entity)\n",
    "    return tf\n",
    "def compute_idf(es, entity):\n",
    "    res = search(es, \"health-docs-v2\", {\"size\": 0,\"_source\": \"Description\", \"query\": {\"bool\": {\"must\":[{ \"match\": {\"FeedUrl\": \"http://ehealthforum.com/\"}},{\"match\": {\"aida.allMentionEntities\": entity}}]}},\"aggs\" : {\"subforum_frequency\" : {\"cardinality\" : {\"field\" : \"Description\"}}}})\n",
    "    return res[\"aggregations\"][\"subforum_frequency\"][\"value\"]\n",
    "def unique_subforums(es):\n",
    "    res = search(es, \"health-docs-v2\", {\"size\":300000,\"_source\": \"Description\", \"query\": {\"bool\": {\"must\": [{\"match\": {\"FeedUrl\": \"http://ehealthforum.com/\"}}]}}})\n",
    "    sub_dic = {}\n",
    "    for hit in res[\"hits\"][\"hits\"]:\n",
    "        [parent,forum] = hit[\"_source\"][\"Description\"].split(\"\\n-\")\n",
    "        sub_dic[forum] = parent+\"\\n-\"+forum\n",
    "    return sub_dic\n",
    "def get_mayoclinic_encylopedia(es):\n",
    "    res = search(es, \"health-docs-v2\", {\"from\" : 0, \"size\" : 3100, \"_source\": [\"Title\",\"aida.annotatedText\"],    \"query\" : { \"filtered\" : { \"query\": { \"bool\": { \"must\" : [{\"regexp\": {\"FeedUrl\": \".*mayoclinic.*\"}}]}}}}})\n",
    "    ency_dic = {}\n",
    "    for hit in res[\"hits\"][\"hits\"]:\n",
    "        title = hit[\"_source\"][\"Title\"]\n",
    "        try:\n",
    "            text = ''.join(hit[\"_source\"][\"aida\"][\"annotatedText\"].split(\"\\n\\n\")[3:5])\n",
    "            ency_dic[title] = text\n",
    "        except:\n",
    "            pass\n",
    "    return ency_dic\n",
    "es = connect_elasticsearch()\n",
    "\n",
    "print(get_types(es, \"C0037199\"))\n",
    "# is_informative_entity(es, \"C0037199\")"
   ]
  },
  {
   "cell_type": "code",
   "execution_count": 27,
   "outputs": [
    {
     "name": "stdout",
     "text": [
      "{'took': 34, 'timed_out': False, '_shards': {'total': 5, 'successful': 5, 'failed': 0}, 'hits': {'total': 1, 'max_score': 1.0, 'hits': [{'_index': 'health-kb', '_type': 'entity', '_id': '19421', '_score': 1.0, '_source': {'types': ['causes_of_C0029443', 'causes_of_C0009450', 'dsyn', 'causes_of_C0012569', 'causes_of_C0238454', 'phpr', 'npop', 'disease_affecting_C0030471', 'causes_of_C0000833', 'complication_of_C0021400', 'patf', 'evnt', 'causes_of_C0262174', 'causes_of_C1260880', 'causes_of_C0003126', 'C0037199', 'risk_factors_for_C0031350', 'causes_of_C0009443', 'risk_factors_for_C0004096', 'symptoms_ofC0042769', 'complication_of_C3539909', 'risk_factors_for_C0149507', 'causes_of_C0234242', 'symptoms_ofC0017168', 'biof', 'causes_of_C0700148', 'symptoms_ofC0699744', 'causes_of_C0018681', 'causes_of_C0027424', 'complication_of_C0009443', 'risk_factors_for_C0035455'], 'human_readable': 'Sinusitis'}}]}}\nTrue\n"
     ],
     "output_type": "stream"
    }
   ],
   "source": [
    "print(is_informative_entity(es, \"C0037199\"))\n"
   ],
   "metadata": {
    "collapsed": false,
    "pycharm": {
     "name": "#%%\n",
     "is_executing": false
    }
   }
  }
 ],
 "metadata": {
  "kernelspec": {
   "display_name": "Python 3",
   "language": "python",
   "name": "python3"
  },
  "language_info": {
   "codemirror_mode": {
    "name": "ipython",
    "version": 2
   },
   "file_extension": ".py",
   "mimetype": "text/x-python",
   "name": "python",
   "nbconvert_exporter": "python",
   "pygments_lexer": "ipython2",
   "version": "2.7.6"
  },
  "pycharm": {
   "stem_cell": {
    "cell_type": "raw",
    "source": [],
    "metadata": {
     "collapsed": false
    }
   }
  }
 },
 "nbformat": 4,
 "nbformat_minor": 0
}
